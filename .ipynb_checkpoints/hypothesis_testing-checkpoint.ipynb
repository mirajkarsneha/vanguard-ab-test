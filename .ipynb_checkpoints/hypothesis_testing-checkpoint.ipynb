{
 "cells": [
  {
   "cell_type": "code",
   "execution_count": 28,
   "id": "3f370172-6333-4328-9bf1-f643fef4aa97",
   "metadata": {},
   "outputs": [
    {
     "name": "stdout",
     "output_type": "stream",
     "text": [
      "Mean Age (Test Group): 48.44\n",
      "Mean Age (Control Group): 48.01\n",
      "T-statistic: 7.7608\n",
      "P-value: 8.4648e-15\n",
      "Reject the null hypothesis: The average ages are not significantly different.\n"
     ]
    }
   ],
   "source": []
  },
  {
   "cell_type": "code",
   "execution_count": null,
   "id": "c52deb82-c7f9-4596-9735-f683740f34cf",
   "metadata": {},
   "outputs": [],
   "source": [
    "from scipy.stats import chi2_contingency\n",
    "\n",
    "# Create a contingency table\n",
    "contingency_table = pd.crosstab(df_final_experiment_clients['Variation'], df_final_experiment_clients['process_step'] == 'confirm')\n",
    "chi2_stat, p_val, dof, expected = chi2_contingency(contingency_table)\n",
    "\n",
    "print(f\"Chi-Square Statistic: {chi2_stat:.4f}, P-Value: {p_val:.4e}\")\n",
    "\n",
    "if p_val < alpha:\n",
    "    print(\"Reject the null hypothesis. There is a significant association between the design variation and completion.\")\n",
    "else:\n",
    "    print(\"Fail to reject the null hypothesis. There is no significant association between the design variation and completion.\")\n"
   ]
  },
  {
   "cell_type": "code",
   "execution_count": null,
   "id": "8d64f960-ca36-401f-8fd7-b54896b75ebd",
   "metadata": {},
   "outputs": [],
   "source": [
    "# Get the number of unique clients in the test and control groups\n",
    "test_clients = test_group_clients['client_id'].nunique()\n",
    "control_clients = control_group_clients['client_id'].nunique()\n",
    "\n",
    "# Calculate the ratio of Test to Control clients\n",
    "ratio = test_clients / control_clients\n",
    "\n",
    "# Print the ratio, formatted to two decimal places\n",
    "print(f\"Ratio of Test to Control clients: {ratio:.2f}\")\n",
    "#If the ratio is not close to 1, it suggests that the clients were not evenly divided. \n",
    "# there is significant imbalance and it might indicate potential bias."
   ]
  }
 ],
 "metadata": {
  "kernelspec": {
   "display_name": "Python 3 (ipykernel)",
   "language": "python",
   "name": "python3"
  },
  "language_info": {
   "codemirror_mode": {
    "name": "ipython",
    "version": 3
   },
   "file_extension": ".py",
   "mimetype": "text/x-python",
   "name": "python",
   "nbconvert_exporter": "python",
   "pygments_lexer": "ipython3",
   "version": "3.12.4"
  }
 },
 "nbformat": 4,
 "nbformat_minor": 5
}
